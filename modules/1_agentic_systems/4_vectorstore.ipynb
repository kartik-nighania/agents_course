{
 "cells": [
  {
   "cell_type": "code",
   "execution_count": 1,
   "id": "63edff5a-724b-474d-9db8-37f0ae936c76",
   "metadata": {},
   "outputs": [
    {
     "name": "stdout",
     "output_type": "stream",
     "text": [
      "\u001b[33mWARNING: The directory '/Users/kartik/Library/Caches/pip' or its parent directory is not owned or is not writable by the current user. The cache has been disabled. Check the permissions and owner of that directory. If executing pip with sudo, you should use sudo's -H flag.\u001b[0m\u001b[33m\n",
      "\u001b[0m\n",
      "\u001b[1m[\u001b[0m\u001b[34;49mnotice\u001b[0m\u001b[1;39;49m]\u001b[0m\u001b[39;49m A new release of pip is available: \u001b[0m\u001b[31;49m23.2.1\u001b[0m\u001b[39;49m -> \u001b[0m\u001b[32;49m25.1.1\u001b[0m\n",
      "\u001b[1m[\u001b[0m\u001b[34;49mnotice\u001b[0m\u001b[1;39;49m]\u001b[0m\u001b[39;49m To update, run: \u001b[0m\u001b[32;49mpip install --upgrade pip\u001b[0m\n",
      "Note: you may need to restart the kernel to use updated packages.\n"
     ]
    }
   ],
   "source": [
    "%pip install -q -r ../../requirements.txt"
   ]
  },
  {
   "cell_type": "code",
   "execution_count": 2,
   "id": "356a6482",
   "metadata": {},
   "outputs": [
    {
     "name": "stdout",
     "output_type": "stream",
     "text": [
      "True\n",
      "agentic-ops\n"
     ]
    }
   ],
   "source": [
    "from dotenv import load_dotenv\n",
    "import os\n",
    "print(load_dotenv('../../.env'))\n",
    "print(os.environ['LANGSMITH_PROJECT'])"
   ]
  },
  {
   "cell_type": "markdown",
   "id": "7f523df7-ca4b-49fa-8026-27aecaf55dc4",
   "metadata": {},
   "source": [
    "## VectorStore Setup\n",
    "- Dockerfile\n",
    "- Docker compose file"
   ]
  },
  {
   "cell_type": "markdown",
   "id": "b8384165-81d2-41d1-841d-03d801064f0b",
   "metadata": {},
   "source": [
    "## docker compose --profile qdrant up -d"
   ]
  },
  {
   "cell_type": "code",
   "execution_count": 3,
   "id": "71795ff1-d6a7-448d-8b55-88bbd1ed3dbe",
   "metadata": {},
   "outputs": [],
   "source": [
    "import os\n",
    "import json\n",
    "from typing import Annotated, TypedDict\n",
    "from dotenv import load_dotenv\n",
    "from langgraph.graph import START, StateGraph, END\n",
    "from langgraph.prebuilt import tools_condition\n",
    "from langgraph.prebuilt import ToolNode\n",
    "from langchain.document_loaders import HuggingFaceDatasetLoader\n",
    "from langchain.text_splitter import RecursiveCharacterTextSplitter\n",
    "from langchain_openai import ChatOpenAI, OpenAIEmbeddings\n",
    "from langchain_qdrant import QdrantVectorStore\n",
    "from qdrant_client import QdrantClient\n",
    "from qdrant_client.http.models import VectorParams"
   ]
  },
  {
   "cell_type": "code",
   "execution_count": 4,
   "id": "638a22c1-38b0-4ff0-9418-e865c90abf83",
   "metadata": {},
   "outputs": [],
   "source": [
    "QDRANT_URL = \"http://localhost:6333\""
   ]
  },
  {
   "cell_type": "markdown",
   "id": "90594692-6784-4966-bb89-50aec2202fa3",
   "metadata": {},
   "source": [
    "# Ingest Documents"
   ]
  },
  {
   "cell_type": "code",
   "execution_count": 5,
   "id": "7d2057fe-7392-4892-abb1-85a32c14e35b",
   "metadata": {},
   "outputs": [],
   "source": [
    "def preprocess_dataset(docs_list):\n",
    "    text_splitter = RecursiveCharacterTextSplitter.from_tiktoken_encoder(\n",
    "        chunk_size=700,\n",
    "        chunk_overlap=50,\n",
    "        disallowed_special=()\n",
    "    )\n",
    "    doc_splits = text_splitter.split_documents(docs_list)\n",
    "    return doc_splits"
   ]
  },
  {
   "cell_type": "code",
   "execution_count": 6,
   "id": "d061813f-ebc0-432c-91ec-3b42b15c30b6",
   "metadata": {},
   "outputs": [
    {
     "name": "stderr",
     "output_type": "stream",
     "text": [
      "/Users/kartik/Documents/auto360/agents_course/venv/lib/python3.12/site-packages/tqdm/auto.py:21: TqdmWarning: IProgress not found. Please update jupyter and ipywidgets. See https://ipywidgets.readthedocs.io/en/stable/user_install.html\n",
      "  from .autonotebook import tqdm as notebook_tqdm\n"
     ]
    },
    {
     "data": {
      "text/plain": [
       "Document(metadata={'filename': 'perf_train_cpu_many.md'}, page_content='\"\\\\n\\\\n# Efficient Training on Multiple CPUs\\\\n\\\\nWhen training on a single CPU is too slow, we can use multiple CPUs. This guide focuses on PyTorch-based DDP enabling distributed CPU training efficiently.\\\\n\\\\n## Intel\\\\u00ae oneCCL Bindings for PyTorch\\\\n\\\\n[Intel\\\\u00ae oneCCL](https://github.com/oneapi-src/oneCCL) (collective communications library) is a library for efficient distributed deep learning training implementing such collectives like allreduce, allgather, alltoall. For more information on oneCCL, please refer to the [oneCCL documentation](https://spec.oneapi.com/versions/latest/elements/oneCCL/source/index.html) and [oneCCL specification](https://spec.oneapi.com/versions/latest/elements/oneCCL/source/index.html).\\\\n\\\\nModule `oneccl_bindings_for_pytorch` (`torch_ccl` before version 1.12)  implements PyTorch C10D ProcessGroup API and can be dynamically loaded as external ProcessGroup and only works on Linux platform now\\\\n\\\\nCheck more detailed information for [oneccl_bind_pt](https://github.com/intel/torch-ccl).\\\\n\\\\n### Intel\\\\u00ae oneCCL Bindings for PyTorch installation:\\\\n\\\\nWheel files are available for the following Python versions:\\\\n\\\\n| Extension Version | Python 3.6 | Python 3.7 | Python 3.8 | Python 3.9 | Python 3.10 |\\\\n\\\\n| :---------------: | :--------: | :--------: | :--------: | :--------: | :---------: |\\\\n\\\\n| 1.13.0            |            | \\\\u221a          | \\\\u221a          | \\\\u221a          | \\\\u221a           |\\\\n\\\\n| 1.12.100          |            | \\\\u221a          | \\\\u221a          | \\\\u221a          | \\\\u221a           |\\\\n\\\\n| 1.12.0            |            | \\\\u221a          | \\\\u221a          | \\\\u221a          | \\\\u221a           |\\\\n\\\\n| 1.11.0            |            |')"
      ]
     },
     "execution_count": 6,
     "metadata": {},
     "output_type": "execute_result"
    }
   ],
   "source": [
    "# https://huggingface.co/datasets/m-ric/transformers_documentation_en\n",
    "transformers_doc = HuggingFaceDatasetLoader(\"m-ric/transformers_documentation_en\",\"text\")\n",
    "docs = preprocess_dataset(transformers_doc.load()[:50])\n",
    "docs[0]"
   ]
  },
  {
   "cell_type": "code",
   "execution_count": 7,
   "id": "c00b6e79-d4dc-47b0-8ebd-65beaccf9338",
   "metadata": {},
   "outputs": [],
   "source": [
    "# set optimization \n",
    "vectorstore = QdrantVectorStore.from_documents(\n",
    "    docs,\n",
    "    OpenAIEmbeddings(model=\"text-embedding-3-small\"),\n",
    "    url=QDRANT_URL,\n",
    "    collection_name=\"documentations\",\n",
    ")"
   ]
  },
  {
   "cell_type": "markdown",
   "id": "46b81911-6532-4d63-bfd9-021b2e32a975",
   "metadata": {},
   "source": [
    "## Agent Creation"
   ]
  },
  {
   "cell_type": "code",
   "execution_count": 8,
   "id": "9e28e4c2-5b9d-4c81-b7a4-0fbe91bfe8cf",
   "metadata": {},
   "outputs": [
    {
     "name": "stdout",
     "output_type": "stream",
     "text": [
      "name='retriever_hugging_face_documentation' description='Search and return information about hugging face documentation, it includes the guide and Python code.' args_schema=<class 'langchain_core.tools.retriever.RetrieverInput'> func=functools.partial(<function _get_relevant_documents at 0x107e57100>, retriever=VectorStoreRetriever(tags=['QdrantVectorStore', 'OpenAIEmbeddings'], vectorstore=<langchain_qdrant.qdrant.QdrantVectorStore object at 0x12593ce60>, search_kwargs={}), document_prompt=PromptTemplate(input_variables=['page_content'], input_types={}, partial_variables={}, template='{page_content}'), document_separator='\\n\\n', response_format='content') coroutine=functools.partial(<function _aget_relevant_documents at 0x126d67ec0>, retriever=VectorStoreRetriever(tags=['QdrantVectorStore', 'OpenAIEmbeddings'], vectorstore=<langchain_qdrant.qdrant.QdrantVectorStore object at 0x12593ce60>, search_kwargs={}), document_prompt=PromptTemplate(input_variables=['page_content'], input_types={}, partial_variables={}, template='{page_content}'), document_separator='\\n\\n', response_format='content')\n"
     ]
    }
   ],
   "source": [
    "from langchain.tools.retriever import create_retriever_tool\n",
    "from langchain_core.messages import HumanMessage, SystemMessage\n",
    "from langgraph.graph import MessagesState\n",
    "\n",
    "retriever = vectorstore.as_retriever()\n",
    "tool = create_retriever_tool(\n",
    "    retriever,\n",
    "    \"retriever_hugging_face_documentation\",\n",
    "    \"Search and return information about hugging face documentation, it includes the guide and Python code.\"\n",
    ")\n",
    "print(tool)\n",
    "\n",
    "sys_msg = SystemMessage(content=\"You are a helpful assistant that helps users with thier queries\")\n",
    "llm = ChatOpenAI(model=\"gpt-4o\")\n",
    "llm_with_tools = llm.bind_tools(tools=[tool], parallel_tool_calls=False)\n",
    "\n",
    "def assistant(state: MessagesState):\n",
    "   return {\"messages\": [llm_with_tools.invoke([sys_msg] + state[\"messages\"])]}"
   ]
  },
  {
   "cell_type": "markdown",
   "id": "4eb43343-9a6f-42cb-86e6-4380f928633c",
   "metadata": {},
   "source": [
    "## Graph"
   ]
  },
  {
   "cell_type": "code",
   "execution_count": 9,
   "id": "aef13cd4-05a6-4084-a620-2e7b91d9a72f",
   "metadata": {},
   "outputs": [
    {
     "data": {
      "image/png": "[encoded data removed]",
      "text/plain": [
       "<IPython.core.display.Image object>"
      ]
     },
     "metadata": {},
     "output_type": "display_data"
    }
   ],
   "source": [
    "from langgraph.graph import START, StateGraph, END\n",
    "from langgraph.prebuilt import tools_condition\n",
    "from langgraph.prebuilt import ToolNode\n",
    "from IPython.display import Image, display\n",
    "\n",
    "builder = StateGraph(MessagesState)\n",
    "\n",
    "builder.add_node(\"assistant\", assistant)\n",
    "builder.add_node(\"tools\", ToolNode([tool]))\n",
    "\n",
    "\n",
    "builder.add_edge(START, \"assistant\")\n",
    "builder.add_conditional_edges(\n",
    "    \"assistant\",\n",
    "    tools_condition\n",
    ")\n",
    "builder.add_edge(\"tools\", \"assistant\")\n",
    "react_graph = builder.compile()\n",
    "\n",
    "\n",
    "display(Image(react_graph.get_graph(xray=True).draw_mermaid_png()))"
   ]
  },
  {
   "cell_type": "code",
   "execution_count": 10,
   "id": "75602459-d8ca-47b4-9518-3f38343ebfe4",
   "metadata": {},
   "outputs": [
    {
     "name": "stdout",
     "output_type": "stream",
     "text": [
      "================================\u001b[1m Human Message \u001b[0m=================================\n",
      "\n",
      "what do you know about efficient Training on Multiple CPUs using Intel chips in huggingface ?\n",
      "==================================\u001b[1m Ai Message \u001b[0m==================================\n",
      "Tool Calls:\n",
      "  retriever_hugging_face_documentation (call_yGYOpHhrAC6OHb3t4Y73XS2v)\n",
      " Call ID: call_yGYOpHhrAC6OHb3t4Y73XS2v\n",
      "  Args:\n",
      "    query: efficient Training on Multiple CPUs using Intel chips\n",
      "=================================\u001b[1m Tool Message \u001b[0m=================================\n",
      "Name: retriever_hugging_face_documentation\n",
      "\n",
      "$torch_ccl_path/env/setvars.sh\\n\\n#### IPEX installation:\\n\\nIPEX provides performance optimizations for CPU training with both Float32 and BFloat16, you could refer [single CPU section](./perf_train_cpu).\\n\\nThe following \\\"Usage in Trainer\\\" takes mpirun in Intel\\u00ae MPI library as an example.\\n\\n## Usage in Trainer\\n\\nTo enable multi CPU distributed training in the Trainer with the ccl backend, users should add **`--ddp_backend ccl`** in the command arguments.\\n\\nLet's see an example with the [question-answering example](https://github.com/huggingface/transformers/tree/main/examples/pytorch/question-answering)\\n\\nThe following command enables training with 2 processes on one Xeon node, with one process running per one socket. The variables OMP_NUM_THREADS/CCL_WORKER_COUNT can be tuned for optimal performance.\\n\\n```shell script\\n\\n export CCL_WORKER_COUNT=1\\n\\n export MASTER_ADDR=127.0.0.1\\n\\n mpirun -n 2 -genv OMP_NUM_THREADS=23 \\\\\\n\\n python3 run_qa.py \\\\\\n\\n --model_name_or_path bert-large-uncased \\\\\\n\\n --dataset_name squad \\\\\\n\\n --do_train \\\\\\n\\n --do_eval \\\\\\n\\n --per_device_train_batch_size 12  \\\\\\n\\n --learning_rate 3e-5  \\\\\\n\\n --num_train_epochs 2  \\\\\\n\\n --max_seq_length 384 \\\\\\n\\n --doc_stride 128  \\\\\\n\\n --output_dir /tmp/debug_squad/ \\\\\\n\\n --no_cuda \\\\\\n\\n --ddp_backend ccl \\\\\\n\\n --use_ipex\\n\\nThe following command enables training with a total of four processes on two Xeons (node0 and node1, taking node0 as the main process), ppn (processes per node) is set to 2, with one process running per one socket. The variables OMP_NUM_THREADS/CCL_WORKER_COUNT can be tuned for optimal performance.\\n\\nIn node0, you need to create a configuration file which contains the IP addresses of each node (for example hostfile) and pass that configuration file path as an argument.\\n\\n```shell script\\n\\n cat hostfile\\n\\n xxx.xxx.xxx.xxx #node0 ip\\n\\n xxx.xxx.xxx.xxx #node1 ip\\n\\nNow, run the following command in node0 and **4DDP** will be enabled in node0 and node1 with BF16 auto mixed precision:\\n\\n```shell script\\n\\n export\n",
      "\n",
      "$torch_ccl_path/env/setvars.sh\\n\\n#### IPEX installation:\\n\\nIPEX provides performance optimizations for CPU training with both Float32 and BFloat16, you could refer [single CPU section](./perf_train_cpu).\\n\\nThe following \\\"Usage in Trainer\\\" takes mpirun in Intel\\u00ae MPI library as an example.\\n\\n## Usage in Trainer\\n\\nTo enable multi CPU distributed training in the Trainer with the ccl backend, users should add **`--ddp_backend ccl`** in the command arguments.\\n\\nLet's see an example with the [question-answering example](https://github.com/huggingface/transformers/tree/main/examples/pytorch/question-answering)\\n\\nThe following command enables training with 2 processes on one Xeon node, with one process running per one socket. The variables OMP_NUM_THREADS/CCL_WORKER_COUNT can be tuned for optimal performance.\\n\\n```shell script\\n\\n export CCL_WORKER_COUNT=1\\n\\n export MASTER_ADDR=127.0.0.1\\n\\n mpirun -n 2 -genv OMP_NUM_THREADS=23 \\\\\\n\\n python3 run_qa.py \\\\\\n\\n --model_name_or_path bert-large-uncased \\\\\\n\\n --dataset_name squad \\\\\\n\\n --do_train \\\\\\n\\n --do_eval \\\\\\n\\n --per_device_train_batch_size 12  \\\\\\n\\n --learning_rate 3e-5  \\\\\\n\\n --num_train_epochs 2  \\\\\\n\\n --max_seq_length 384 \\\\\\n\\n --doc_stride 128  \\\\\\n\\n --output_dir /tmp/debug_squad/ \\\\\\n\\n --no_cuda \\\\\\n\\n --ddp_backend ccl \\\\\\n\\n --use_ipex\\n\\nThe following command enables training with a total of four processes on two Xeons (node0 and node1, taking node0 as the main process), ppn (processes per node) is set to 2, with one process running per one socket. The variables OMP_NUM_THREADS/CCL_WORKER_COUNT can be tuned for optimal performance.\\n\\nIn node0, you need to create a configuration file which contains the IP addresses of each node (for example hostfile) and pass that configuration file path as an argument.\\n\\n```shell script\\n\\n cat hostfile\\n\\n xxx.xxx.xxx.xxx #node0 ip\\n\\n xxx.xxx.xxx.xxx #node1 ip\\n\\nNow, run the following command in node0 and **4DDP** will be enabled in node0 and node1 with BF16 auto mixed precision:\\n\\n```shell script\\n\\n export\n",
      "\n",
      "$torch_ccl_path/env/setvars.sh\\n\\n#### IPEX installation:\\n\\nIPEX provides performance optimizations for CPU training with both Float32 and BFloat16, you could refer [single CPU section](./perf_train_cpu).\\n\\nThe following \\\"Usage in Trainer\\\" takes mpirun in Intel\\u00ae MPI library as an example.\\n\\n## Usage in Trainer\\n\\nTo enable multi CPU distributed training in the Trainer with the ccl backend, users should add **`--ddp_backend ccl`** in the command arguments.\\n\\nLet's see an example with the [question-answering example](https://github.com/huggingface/transformers/tree/main/examples/pytorch/question-answering)\\n\\nThe following command enables training with 2 processes on one Xeon node, with one process running per one socket. The variables OMP_NUM_THREADS/CCL_WORKER_COUNT can be tuned for optimal performance.\\n\\n```shell script\\n\\n export CCL_WORKER_COUNT=1\\n\\n export MASTER_ADDR=127.0.0.1\\n\\n mpirun -n 2 -genv OMP_NUM_THREADS=23 \\\\\\n\\n python3 run_qa.py \\\\\\n\\n --model_name_or_path bert-large-uncased \\\\\\n\\n --dataset_name squad \\\\\\n\\n --do_train \\\\\\n\\n --do_eval \\\\\\n\\n --per_device_train_batch_size 12  \\\\\\n\\n --learning_rate 3e-5  \\\\\\n\\n --num_train_epochs 2  \\\\\\n\\n --max_seq_length 384 \\\\\\n\\n --doc_stride 128  \\\\\\n\\n --output_dir /tmp/debug_squad/ \\\\\\n\\n --no_cuda \\\\\\n\\n --ddp_backend ccl \\\\\\n\\n --use_ipex\\n\\nThe following command enables training with a total of four processes on two Xeons (node0 and node1, taking node0 as the main process), ppn (processes per node) is set to 2, with one process running per one socket. The variables OMP_NUM_THREADS/CCL_WORKER_COUNT can be tuned for optimal performance.\\n\\nIn node0, you need to create a configuration file which contains the IP addresses of each node (for example hostfile) and pass that configuration file path as an argument.\\n\\n```shell script\\n\\n cat hostfile\\n\\n xxx.xxx.xxx.xxx #node0 ip\\n\\n xxx.xxx.xxx.xxx #node1 ip\\n\\nNow, run the following command in node0 and **4DDP** will be enabled in node0 and node1 with BF16 auto mixed precision:\\n\\n```shell script\\n\\n export\n",
      "\n",
      "\"\\n\\n# Efficient Training on Multiple CPUs\\n\\nWhen training on a single CPU is too slow, we can use multiple CPUs. This guide focuses on PyTorch-based DDP enabling distributed CPU training efficiently.\\n\\n## Intel\\u00ae oneCCL Bindings for PyTorch\\n\\n[Intel\\u00ae oneCCL](https://github.com/oneapi-src/oneCCL) (collective communications library) is a library for efficient distributed deep learning training implementing such collectives like allreduce, allgather, alltoall. For more information on oneCCL, please refer to the [oneCCL documentation](https://spec.oneapi.com/versions/latest/elements/oneCCL/source/index.html) and [oneCCL specification](https://spec.oneapi.com/versions/latest/elements/oneCCL/source/index.html).\\n\\nModule `oneccl_bindings_for_pytorch` (`torch_ccl` before version 1.12)  implements PyTorch C10D ProcessGroup API and can be dynamically loaded as external ProcessGroup and only works on Linux platform now\\n\\nCheck more detailed information for [oneccl_bind_pt](https://github.com/intel/torch-ccl).\\n\\n### Intel\\u00ae oneCCL Bindings for PyTorch installation:\\n\\nWheel files are available for the following Python versions:\\n\\n| Extension Version | Python 3.6 | Python 3.7 | Python 3.8 | Python 3.9 | Python 3.10 |\\n\\n| :---------------: | :--------: | :--------: | :--------: | :--------: | :---------: |\\n\\n| 1.13.0            |            | \\u221a          | \\u221a          | \\u221a          | \\u221a           |\\n\\n| 1.12.100          |            | \\u221a          | \\u221a          | \\u221a          | \\u221a           |\\n\\n| 1.12.0            |            | \\u221a          | \\u221a          | \\u221a          | \\u221a           |\\n\\n| 1.11.0            |            |\n",
      "==================================\u001b[1m Ai Message \u001b[0m==================================\n",
      "\n",
      "To efficiently train on multiple CPUs using Intel chips with Hugging Face, you can use Intel's libraries for optimized distributed training. Here's a summary of the process:\n",
      "\n",
      "1. **Intel® oneCCL Bindings for PyTorch**: Intel's collective communications library, oneCCL, is designed for efficient distributed deep learning training. It implements collectives like allreduce, allgather, and alltoall. This is integrated with PyTorch to enable efficient distributed data parallelism (DDP).\n",
      "\n",
      "2. **Installation**: You need to install the `oneccl_bindings_for_pytorch` module (previously known as `torch_ccl`), which implements the PyTorch C10D ProcessGroup API. This can be dynamically loaded as an external process group and works on Linux.\n",
      "\n",
      "3. **Example Usage with Hugging Face's Trainer**:\n",
      "   - Use the `--ddp_backend ccl` argument with the Trainer to enable distributed training using the ccl backend.\n",
      "   - You can run training with multiple processes, optimizing parameters like `OMP_NUM_THREADS` and `CCL_WORKER_COUNT` for best performance.\n",
      "\n",
      "4. **Command Line Example**:\n",
      "   - Example to train a model on a single Xeon node with two processes:\n",
      "     ```shell\n",
      "     export CCL_WORKER_COUNT=1\n",
      "     export MASTER_ADDR=127.0.0.1\n",
      "     mpirun -n 2 -genv OMP_NUM_THREADS=23 \\\\\n",
      "     python3 run_qa.py \\\\\n",
      "     --model_name_or_path bert-large-uncased \\\\\n",
      "     --dataset_name squad \\\\\n",
      "     --do_train \\\\\n",
      "     --do_eval \\\\\n",
      "     --per_device_train_batch_size 12  \\\\\n",
      "     --learning_rate 3e-5  \\\\\n",
      "     --num_train_epochs 2  \\\\\n",
      "     --max_seq_length 384 \\\\\n",
      "     --doc_stride 128  \\\\\n",
      "     --output_dir /tmp/debug_squad/ \\\\\n",
      "     --no_cuda \\\\\n",
      "     --ddp_backend ccl \\\\\n",
      "     --use_ipex\n",
      "     ```\n",
      "\n",
      "5. **Distributed Training Across Multiple Machines**:\n",
      "   - Prepare a hostfile listing the IP addresses of each node.\n",
      "   - Execute distributed training across nodes by specifying the hosts in your execution command.\n",
      "\n",
      "Using these techniques and libraries, you can leverage multiple Intel CPUs to speed up training with Hugging Face models efficiently.\n"
     ]
    }
   ],
   "source": [
    "messages = [HumanMessage(content=\"what do you know about efficient Training on Multiple CPUs using Intel chips in huggingface ?\")]\n",
    "messages = react_graph.invoke({\"messages\": messages})\n",
    "for m in messages['messages']:\n",
    "    m.pretty_print()"
   ]
  },
  {
   "cell_type": "code",
   "execution_count": null,
   "id": "6413f66e-7e1b-45ff-b5e7-3343ad355afc",
   "metadata": {},
   "outputs": [],
   "source": []
  }
 ],
 "metadata": {
  "kernelspec": {
   "display_name": "Python 3 (ipykernel)",
   "language": "python",
   "name": "python3"
  },
  "language_info": {
   "codemirror_mode": {
    "name": "ipython",
    "version": 3
   },
   "file_extension": ".py",
   "mimetype": "text/x-python",
   "name": "python",
   "nbconvert_exporter": "python",
   "pygments_lexer": "ipython3",
   "version": "3.12.0"
  }
 },
 "nbformat": 4,
 "nbformat_minor": 5
}
